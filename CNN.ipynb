{
 "cells": [
  {
   "attachments": {},
   "cell_type": "markdown",
   "metadata": {},
   "source": [
    "### Import Modules"
   ]
  },
  {
   "cell_type": "code",
   "execution_count": 129,
   "metadata": {},
   "outputs": [],
   "source": [
    "import numpy as np\n",
    "import os\n",
    "from PIL import Image"
   ]
  },
  {
   "attachments": {},
   "cell_type": "markdown",
   "metadata": {},
   "source": [
    "### Load Image"
   ]
  },
  {
   "cell_type": "code",
   "execution_count": 130,
   "metadata": {},
   "outputs": [],
   "source": [
    "base_dir = '.\\data'\n",
    "\n",
    "train_dir = os.path.join(base_dir, 'train')\n",
    "test_dir = os.path.join(base_dir, 'test')"
   ]
  },
  {
   "cell_type": "code",
   "execution_count": 131,
   "metadata": {},
   "outputs": [],
   "source": [
    "def getSubFileList(root_dir):\n",
    "    \"\"\"매개변수로 전달된 디렉토리 경로의 하부 디렉토리 리스트 반환\"\"\"\n",
    "    sub_dir = []\n",
    "\n",
    "    for sub_name in os.listdir(root_dir):\n",
    "        sub_root = os.path.join(root_dir, sub_name)\n",
    "        sub_dir.append(sub_root)\n",
    "    \n",
    "    return np.array(sub_dir)\n",
    "\n",
    "def loadImgFromDir(root_dir):\n",
    "    \"\"\"매개변수로 전달된 디렉토리 경로 아래 모든 이미지에 대한 ndarray 리스트 반환\"\"\"\n",
    "    img_list = []\n",
    "    file_list = os.listdir(root_dir)\n",
    "    print('=====| {0:7d}개 이미지 불러오기  |====='.format(len(file_list)), end='')\n",
    "    for file_name in file_list:\n",
    "        file_path = os.path.join(root_dir, file_name)\n",
    "        loaded_img = Image.open(file_path)\n",
    "        img_list.append(np.array(loaded_img))\n",
    "    print('> Done.')\n",
    "    return np.array(img_list)"
   ]
  },
  {
   "cell_type": "code",
   "execution_count": 132,
   "metadata": {},
   "outputs": [],
   "source": [
    "train_label_path_list = getSubFileList(train_dir)\n",
    "test_label_path_list = getSubFileList(test_dir)"
   ]
  },
  {
   "cell_type": "code",
   "execution_count": 133,
   "metadata": {},
   "outputs": [
    {
     "name": "stdout",
     "output_type": "stream",
     "text": [
      "=====|     980개 이미지 불러오기  |=====> Done.\n",
      "=====|    1135개 이미지 불러오기  |=====> Done.\n",
      "=====|    1032개 이미지 불러오기  |=====> Done.\n",
      "=====|    1010개 이미지 불러오기  |=====> Done.\n",
      "=====|     982개 이미지 불러오기  |=====> Done.\n",
      "=====|     892개 이미지 불러오기  |=====> Done.\n",
      "=====|     958개 이미지 불러오기  |=====> Done.\n",
      "=====|    1028개 이미지 불러오기  |=====> Done.\n",
      "=====|     974개 이미지 불러오기  |=====> Done.\n",
      "=====|    1009개 이미지 불러오기  |=====> Done.\n"
     ]
    }
   ],
   "source": [
    "test_img, test_label = [], []\n",
    "\n",
    "for label_path in test_label_path_list:\n",
    "    image_list = loadImgFromDir(label_path)\n",
    "    test_img.append(image_list)"
   ]
  },
  {
   "cell_type": "code",
   "execution_count": null,
   "metadata": {},
   "outputs": [],
   "source": []
  }
 ],
 "metadata": {
  "kernelspec": {
   "display_name": "2022-AI-LEC",
   "language": "python",
   "name": "python3"
  },
  "language_info": {
   "codemirror_mode": {
    "name": "ipython",
    "version": 3
   },
   "file_extension": ".py",
   "mimetype": "text/x-python",
   "name": "python",
   "nbconvert_exporter": "python",
   "pygments_lexer": "ipython3",
   "version": "3.10.4"
  },
  "orig_nbformat": 4,
  "vscode": {
   "interpreter": {
    "hash": "79d51a3371ae08580d7e5a1710fb22e6d7d3d4ead0f6b83365bf2ef449404826"
   }
  }
 },
 "nbformat": 4,
 "nbformat_minor": 2
}
