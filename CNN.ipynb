{
 "cells": [
  {
   "attachments": {},
   "cell_type": "markdown",
   "metadata": {},
   "source": [
    "### Import Modules"
   ]
  },
  {
   "cell_type": "code",
   "execution_count": 9,
   "metadata": {},
   "outputs": [],
   "source": [
    "import numpy as np\n",
    "import os\n",
    "from PIL import Image"
   ]
  },
  {
   "attachments": {},
   "cell_type": "markdown",
   "metadata": {},
   "source": [
    "### Load Images"
   ]
  },
  {
   "cell_type": "code",
   "execution_count": 10,
   "metadata": {},
   "outputs": [],
   "source": [
    "base_dir = '.\\data'\n",
    "\n",
    "train_dir = os.path.join(base_dir, 'train')\n",
    "test_dir = os.path.join(base_dir, 'test')"
   ]
  },
  {
   "cell_type": "code",
   "execution_count": 17,
   "metadata": {},
   "outputs": [],
   "source": [
    "def loadDataFromDir(root_dir):\n",
    "    print('=====| Start Load from \"{0}\" |====='.format(root_dir))\n",
    "    result_data, result_label = [], []\n",
    "\n",
    "    labels = os.listdir(root_dir)   # 'train' or 'test' 내 Label List\n",
    "    print('- Label List: {0}'.format(labels))\n",
    "    for label in labels:\n",
    "        label_root = os.path.join(root_dir, label)  # Label File Foot\n",
    "        file_list = os.listdir(label_root)          # Label Image Name List\n",
    "        print(' -> Load {0}( {1:5d} ) : '.format(label, len(file_list)), end='')\n",
    "        for file_name in file_list:\n",
    "            file_path = os.path.join(label_root, file_name)\n",
    "            img = Image.open(file_path)\n",
    "\n",
    "            result_data.append(np.array(img))\n",
    "            result_label.append(int(label))\n",
    "        print('Done.')\n",
    "    \n",
    "    result_data, result_label = np.array(result_data), np.array(result_label)\n",
    "\n",
    "    return result_data, result_label "
   ]
  },
  {
   "cell_type": "code",
   "execution_count": 18,
   "metadata": {},
   "outputs": [
    {
     "name": "stdout",
     "output_type": "stream",
     "text": [
      "=====| Start Load from \".\\data\\test\" |=====\n",
      "- Label List: ['0', '1', '2', '3', '4', '5', '6', '7', '8', '9']\n",
      " -> Load 0(   980 ) : Done.\n",
      " -> Load 1(  1135 ) : Done.\n",
      " -> Load 2(  1032 ) : Done.\n",
      " -> Load 3(  1010 ) : Done.\n",
      " -> Load 4(   982 ) : Done.\n",
      " -> Load 5(   892 ) : Done.\n",
      " -> Load 6(   958 ) : Done.\n",
      " -> Load 7(  1028 ) : Done.\n",
      " -> Load 8(   974 ) : Done.\n",
      " -> Load 9(  1009 ) : Done.\n"
     ]
    }
   ],
   "source": [
    "test_data, test_label = loadDataFromDir(test_dir)"
   ]
  },
  {
   "cell_type": "code",
   "execution_count": 24,
   "metadata": {},
   "outputs": [
    {
     "name": "stdout",
     "output_type": "stream",
     "text": [
      "=====| Start Load from \".\\data\\train\" |=====\n",
      "- Label List: ['0', '1', '2', '3', '4', '5', '6', '7', '8', '9']\n",
      " -> Load 0(  5923 ) : Done.\n",
      " -> Load 1(  6742 ) : Done.\n",
      " -> Load 2(  5958 ) : Done.\n",
      " -> Load 3(  6131 ) : Done.\n",
      " -> Load 4(  5842 ) : Done.\n",
      " -> Load 5(  5421 ) : Done.\n",
      " -> Load 6(  5918 ) : Done.\n",
      " -> Load 7(  6265 ) : Done.\n",
      " -> Load 8(  5851 ) : Done.\n",
      " -> Load 9(  5949 ) : Done.\n"
     ]
    }
   ],
   "source": [
    "train_data, train_label = loadDataFromDir(train_dir)"
   ]
  },
  {
   "cell_type": "code",
   "execution_count": 26,
   "metadata": {},
   "outputs": [
    {
     "name": "stdout",
     "output_type": "stream",
     "text": [
      "=====| Loaded Datas |=====\n",
      "- Train Data\t: (60000, 28, 28)\n",
      "- Train Label\t: (60000,)\n",
      "- Test Data\t: (10000, 28, 28)\n",
      "- Test Label\t: (10000,)\n"
     ]
    }
   ],
   "source": [
    "print('=====| Loaded Datas |=====')\n",
    "print('- Train Data\\t: {0}'.format(train_data.shape))\n",
    "print('- Train Label\\t: {0}'.format(train_label.shape))\n",
    "print('- Test Data\\t: {0}'.format(test_data.shape))\n",
    "print('- Test Label\\t: {0}'.format(test_label.shape))"
   ]
  }
 ],
 "metadata": {
  "kernelspec": {
   "display_name": "2022-AI-LEC",
   "language": "python",
   "name": "python3"
  },
  "language_info": {
   "codemirror_mode": {
    "name": "ipython",
    "version": 3
   },
   "file_extension": ".py",
   "mimetype": "text/x-python",
   "name": "python",
   "nbconvert_exporter": "python",
   "pygments_lexer": "ipython3",
   "version": "3.10.4"
  },
  "orig_nbformat": 4,
  "vscode": {
   "interpreter": {
    "hash": "79d51a3371ae08580d7e5a1710fb22e6d7d3d4ead0f6b83365bf2ef449404826"
   }
  }
 },
 "nbformat": 4,
 "nbformat_minor": 2
}
