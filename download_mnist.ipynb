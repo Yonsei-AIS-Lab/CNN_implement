{
 "cells": [
  {
   "attachments": {},
   "cell_type": "markdown",
   "metadata": {},
   "source": [
    "### Import Modules"
   ]
  },
  {
   "cell_type": "code",
   "execution_count": 12,
   "metadata": {},
   "outputs": [],
   "source": [
    "import tensorflow as tf\n",
    "from tensorflow import keras\n",
    "from tensorflow.keras.datasets.mnist import load_data\n",
    "\n",
    "import os\n",
    "import numpy as np\n",
    "from PIL import Image"
   ]
  },
  {
   "attachments": {},
   "cell_type": "markdown",
   "metadata": {},
   "source": [
    "### Create Dataset"
   ]
  },
  {
   "attachments": {},
   "cell_type": "markdown",
   "metadata": {},
   "source": [
    "#### Create Directory"
   ]
  },
  {
   "cell_type": "code",
   "execution_count": 24,
   "metadata": {},
   "outputs": [],
   "source": [
    "data_dir = './data'\n",
    "train_dir = data_dir + '/train'\n",
    "test_dir = data_dir + '/test'\n",
    "labels = ['0', '1', '2', '3', '4', '5', '6', '7', '8', '9']\n",
    "\n",
    "if not os.path.isdir(data_dir):\n",
    "    os.mkdir(data_dir)\n",
    "\n",
    "if not os.path.isdir(train_dir):\n",
    "    os.mkdir(train_dir)\n",
    "    for label in labels:\n",
    "        os.mkdir(train_dir + '/' + label)\n",
    "\n",
    "if not os.path.isdir(test_dir):\n",
    "    os.mkdir(test_dir)\n",
    "    for label in labels:\n",
    "        os.mkdir(test_dir + '/' + label)"
   ]
  },
  {
   "attachments": {},
   "cell_type": "markdown",
   "metadata": {},
   "source": [
    "#### Load Dataset from Keras"
   ]
  },
  {
   "cell_type": "code",
   "execution_count": null,
   "metadata": {},
   "outputs": [],
   "source": [
    "(train_imgs, train_labels), (test_imgs, test_labels) = load_data()"
   ]
  },
  {
   "attachments": {},
   "cell_type": "markdown",
   "metadata": {},
   "source": [
    "#### Save Images(Train)"
   ]
  },
  {
   "cell_type": "code",
   "execution_count": 32,
   "metadata": {},
   "outputs": [],
   "source": [
    "nb_train = len(train_imgs)\n",
    "\n",
    "indexes = [0, 0, 0, 0, 0, 0, 0, 0, 0, 0]\n",
    "for i in range(nb_train):\n",
    "    img = Image.fromarray(train_imgs[i])\n",
    "    label = train_labels[i]\n",
    "    file_name = train_dir + '/' + str(label) + '/' + str(label) + '_' + str(indexes[label]) + '.png'\n",
    "    indexes[label] += 1\n",
    "    img.save(file_name)"
   ]
  },
  {
   "attachments": {},
   "cell_type": "markdown",
   "metadata": {},
   "source": [
    "#### Save Images(Test)"
   ]
  },
  {
   "cell_type": "code",
   "execution_count": 33,
   "metadata": {},
   "outputs": [],
   "source": [
    "nb_test = len(test_imgs)\n",
    "\n",
    "indexes = [0, 0, 0, 0, 0, 0, 0, 0, 0, 0]\n",
    "for i in range(nb_test):\n",
    "    img = Image.fromarray(test_imgs[i])\n",
    "    label = test_labels[i]\n",
    "    file_name = test_dir + '/' + str(label) + '/' + str(label) + '_' + str(indexes[label]) + '.png'\n",
    "    indexes[label] += 1\n",
    "    img.save(file_name)"
   ]
  }
 ],
 "metadata": {
  "kernelspec": {
   "display_name": "2022-AI-LEC",
   "language": "python",
   "name": "python3"
  },
  "language_info": {
   "codemirror_mode": {
    "name": "ipython",
    "version": 3
   },
   "file_extension": ".py",
   "mimetype": "text/x-python",
   "name": "python",
   "nbconvert_exporter": "python",
   "pygments_lexer": "ipython3",
   "version": "3.10.4"
  },
  "orig_nbformat": 4,
  "vscode": {
   "interpreter": {
    "hash": "79d51a3371ae08580d7e5a1710fb22e6d7d3d4ead0f6b83365bf2ef449404826"
   }
  }
 },
 "nbformat": 4,
 "nbformat_minor": 2
}
