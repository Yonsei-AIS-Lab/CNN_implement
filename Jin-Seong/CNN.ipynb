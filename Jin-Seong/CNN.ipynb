{
 "cells": [
  {
   "attachments": {},
   "cell_type": "markdown",
   "metadata": {},
   "source": [
    "## Import Modules"
   ]
  },
  {
   "cell_type": "code",
   "execution_count": 3,
   "metadata": {},
   "outputs": [],
   "source": [
    "import numpy as np\n",
    "import os\n",
    "import random\n",
    "import matplotlib.pyplot as plt\n",
    "from PIL import Image"
   ]
  },
  {
   "attachments": {},
   "cell_type": "markdown",
   "metadata": {},
   "source": [
    "## Load Images"
   ]
  },
  {
   "cell_type": "code",
   "execution_count": 2,
   "metadata": {},
   "outputs": [],
   "source": [
    "base_dir = '.\\data'\n",
    "\n",
    "train_dir = os.path.join(base_dir, 'train')\n",
    "test_dir = os.path.join(base_dir, 'test')"
   ]
  },
  {
   "cell_type": "code",
   "execution_count": 6,
   "metadata": {},
   "outputs": [],
   "source": [
    "def loadDataFromDir(root_dir):\n",
    "    print('=====| Start Load from \"{0}\" |====='.format(root_dir))\n",
    "    result_data, result_label = [], []\n",
    "\n",
    "    cnt = 0\n",
    "    labels = os.listdir(root_dir)   # 'train' or 'test' 내 Label List\n",
    "    print('- Label List: {0}'.format(labels))\n",
    "    for label in labels:\n",
    "        label_root = os.path.join(root_dir, label)  # Label File Foot\n",
    "        file_list = os.listdir(label_root)          # Label Image Name List\n",
    "        print(' -> Load {0}( {1:5d} )'.format(label, len(file_list)), end='')\n",
    "        for file_name in file_list:\n",
    "            file_path = os.path.join(label_root, file_name)\n",
    "            img = Image.open(file_path)\n",
    "\n",
    "            result_data.append(np.array(img))\n",
    "            result_label.append(int(label))\n",
    "            if cnt%200 == 0:\n",
    "                print('.', end='')\n",
    "            cnt += 1\n",
    "        print('Done.')\n",
    "    \n",
    "    result_data, result_label = np.array(result_data), np.array(result_label)\n",
    "\n",
    "    return result_data, result_label "
   ]
  },
  {
   "cell_type": "code",
   "execution_count": 7,
   "metadata": {},
   "outputs": [
    {
     "name": "stdout",
     "output_type": "stream",
     "text": [
      "=====| Start Load from \".\\data\\test\" |=====\n",
      "- Label List: ['0', '1', '2', '3', '4', '5', '6', '7', '8', '9']\n",
      " -> Load 0(   980 ).....Done.\n",
      " -> Load 1(  1135 )......Done.\n",
      " -> Load 2(  1032 ).....Done.\n",
      " -> Load 3(  1010 ).....Done.\n",
      " -> Load 4(   982 ).....Done.\n",
      " -> Load 5(   892 ).....Done.\n",
      " -> Load 6(   958 )....Done.\n",
      " -> Load 7(  1028 )......Done.\n",
      " -> Load 8(   974 )....Done.\n",
      " -> Load 9(  1009 ).....Done.\n"
     ]
    }
   ],
   "source": [
    "test_data, test_label = loadDataFromDir(test_dir)"
   ]
  },
  {
   "cell_type": "code",
   "execution_count": 8,
   "metadata": {},
   "outputs": [
    {
     "name": "stdout",
     "output_type": "stream",
     "text": [
      "=====| Start Load from \".\\data\\train\" |=====\n",
      "- Label List: ['0', '1', '2', '3', '4', '5', '6', '7', '8', '9']\n",
      " -> Load 0(  5923 )..............................Done.\n",
      " -> Load 1(  6742 )..................................Done.\n",
      " -> Load 2(  5958 )..............................Done.\n",
      " -> Load 3(  6131 )..............................Done.\n",
      " -> Load 4(  5842 ).............................Done.\n",
      " -> Load 5(  5421 )............................Done.\n",
      " -> Load 6(  5918 ).............................Done.\n",
      " -> Load 7(  6265 )...............................Done.\n",
      " -> Load 8(  5851 )..............................Done.\n",
      " -> Load 9(  5949 ).............................Done.\n"
     ]
    }
   ],
   "source": [
    "train_data, train_label = loadDataFromDir(train_dir)"
   ]
  },
  {
   "cell_type": "code",
   "execution_count": 9,
   "metadata": {},
   "outputs": [
    {
     "name": "stdout",
     "output_type": "stream",
     "text": [
      "=====| Loaded Datas |=====\n",
      "- Train Data\t: (60000, 28, 28)\n",
      "- Train Label\t: (60000,)\n",
      "- Test Data\t: (10000, 28, 28)\n",
      "- Test Label\t: (10000,)\n"
     ]
    }
   ],
   "source": [
    "print('=====| Loaded Datas |=====')\n",
    "print('- Train Data\\t: {0}'.format(train_data.shape))\n",
    "print('- Train Label\\t: {0}'.format(train_label.shape))\n",
    "print('- Test Data\\t: {0}'.format(test_data.shape))\n",
    "print('- Test Label\\t: {0}'.format(test_label.shape))"
   ]
  },
  {
   "attachments": {},
   "cell_type": "markdown",
   "metadata": {},
   "source": [
    "## Perceptron"
   ]
  },
  {
   "attachments": {},
   "cell_type": "markdown",
   "metadata": {},
   "source": [
    "### Functions"
   ]
  },
  {
   "cell_type": "code",
   "execution_count": 4,
   "metadata": {},
   "outputs": [],
   "source": [
    "def sigmoid(z):\n",
    "    return 1/(1+np.exp(-z))\n",
    "\n",
    "def MSE(y, y_hat):\n",
    "    return np.mean((y-y_hat)**2)\n",
    "\n",
    "def gradient(x, y, y_hat):\n",
    "    nb_data = len(x)\n",
    "    return 2/nb_data * x.T.dot(y_hat-y)"
   ]
  },
  {
   "attachments": {},
   "cell_type": "markdown",
   "metadata": {},
   "source": [
    "### Model"
   ]
  },
  {
   "cell_type": "code",
   "execution_count": 91,
   "metadata": {},
   "outputs": [],
   "source": [
    "class Perceptron:\n",
    "    def __init__(self, nb_input, act_func):\n",
    "        self.nb_input = nb_input\n",
    "        self.weights = np.random.random(self.nb_input)\n",
    "        self.bias = 0.5\n",
    "        self.act_func = act_func\n",
    "        self.history = []\n",
    "    \n",
    "    def shape(self):\n",
    "        print('=====| Perceptron Shape |=====')\n",
    "        # print('- input shape\\n :', self.nb_input)\n",
    "        print('- weights\\n :', self.weights)\n",
    "        print('- bias\\n :',self.bias)\n",
    "    \n",
    "    def forward(self, x_data):\n",
    "        return x_data.dot(self.weights) + self.bias\n",
    "\n",
    "    def train(self, x_data, y_data, loss_func, learning_rate, epochs):\n",
    "        nb_data = len(y_data)\n",
    "\n",
    "        for epoch in range(epochs):\n",
    "            y_hat = self.forward(x_data)\n",
    "            \n",
    "            loss = loss_func(y_data, y_hat)\n",
    "            gradients = gradient(x_data, y_data, y_hat)\n",
    "            \n",
    "            self.history.append(loss)\n",
    "\n",
    "            update = learning_rate*gradients\n",
    "            self.weights = self.weights - update\n",
    "            self.bias = self.bias - np.mean(update)\n",
    "            # if epoch%1000 == 0: print('[{0:4} Epoch ]\\n - Loss: {1:06.4f}'.format(epoch, loss))"
   ]
  },
  {
   "attachments": {},
   "cell_type": "markdown",
   "metadata": {},
   "source": [
    "### Create"
   ]
  },
  {
   "cell_type": "code",
   "execution_count": 81,
   "metadata": {},
   "outputs": [
    {
     "name": "stdout",
     "output_type": "stream",
     "text": [
      "=====| Perceptron Shape |=====\n",
      "- weights\n",
      " : [0.68238575 0.6842614 ]\n",
      "- bias\n",
      " : 0.5\n"
     ]
    }
   ],
   "source": [
    "input_x = np.array([[1, 1], [1, 0], [0, 1], [0, 0]])\n",
    "input_y = np.array([1, 1, 1, 0])\n",
    "\n",
    "perceptron = Perceptron(2, sigmoid)\n",
    "perceptron.shape()"
   ]
  },
  {
   "attachments": {},
   "cell_type": "markdown",
   "metadata": {},
   "source": [
    "### Train"
   ]
  },
  {
   "cell_type": "code",
   "execution_count": 85,
   "metadata": {},
   "outputs": [],
   "source": [
    "lr = 0.0001\n",
    "epochs = 100000\n",
    "perceptron.train(input_x, input_y, MSE, lr, epochs)"
   ]
  },
  {
   "attachments": {},
   "cell_type": "markdown",
   "metadata": {},
   "source": [
    "### Loss Visualization"
   ]
  },
  {
   "cell_type": "code",
   "execution_count": 86,
   "metadata": {},
   "outputs": [
    {
     "data": {
      "image/png": "[encoded data removed]",
      "text/plain": [
       "<Figure size 300x300 with 1 Axes>"
      ]
     },
     "metadata": {},
     "output_type": "display_data"
    }
   ],
   "source": [
    "hist = perceptron.history\n",
    "\n",
    "plt.figure(figsize=(3, 3))\n",
    "plt.plot(hist)\n",
    "plt.show()"
   ]
  },
  {
   "cell_type": "code",
   "execution_count": 90,
   "metadata": {},
   "outputs": [
    {
     "name": "stdout",
     "output_type": "stream",
     "text": [
      "=====| Perceptron Shape |=====\n",
      "- weights\n",
      " : [0.47332939 0.47332947]\n",
      "- bias\n",
      " : 0.2900058536122037\n"
     ]
    }
   ],
   "source": [
    "perceptron.shape()"
   ]
  }
 ],
 "metadata": {
  "kernelspec": {
   "display_name": "AIS_CNN",
   "language": "python",
   "name": "python3"
  },
  "language_info": {
   "codemirror_mode": {
    "name": "ipython",
    "version": 3
   },
   "file_extension": ".py",
   "mimetype": "text/x-python",
   "name": "python",
   "nbconvert_exporter": "python",
   "pygments_lexer": "ipython3",
   "version": "3.10.9"
  },
  "orig_nbformat": 4,
  "vscode": {
   "interpreter": {
    "hash": "f3d649a9c7b544bc7d41611bf92f6bf5ed7a40112624c6afbd7811601a108590"
   }
  }
 },
 "nbformat": 4,
 "nbformat_minor": 2
}
